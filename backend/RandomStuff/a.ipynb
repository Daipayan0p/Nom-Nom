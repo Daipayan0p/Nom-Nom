{
 "cells": [
  {
   "cell_type": "code",
   "execution_count": 17,
   "metadata": {},
   "outputs": [],
   "source": [
    "import pandas as pd\n"
   ]
  },
  {
   "cell_type": "code",
   "execution_count": 43,
   "metadata": {},
   "outputs": [],
   "source": [
    "class DailyMeals:\n",
    "    def __init__(self, breakfast, lunch, dinner,snacks):\n",
    "        self.breakfast = breakfast\n",
    "        self.lunch = lunch\n",
    "        self.snacks = snacks\n",
    "        self.dinner = dinner\n",
    "\n",
    "\n",
    "\n"
   ]
  },
  {
   "cell_type": "code",
   "execution_count": 44,
   "metadata": {},
   "outputs": [],
   "source": [
    "day1 = DailyMeals(breakfast=[\"Gobi Paratha, Curd,\",\"Pongal, Chutney, Sambar\",\"B,B,J  Tea, Coffee, Milk,\"],\n",
    "                  lunch=[\"Phulka, Dal Masala, White Rice,Sambar\",\"Rasam,Curd, Onion Rings\",\"Green Veg Sabzhi\",\"Sweet: Badushai/Coconut Laddu \"],\n",
    "                  snacks=[\"Sweet Corn\",\"Tea,Coffee,Milk\"],\n",
    "                  dinner=[\"Poori,White Rice \",\"Rasam, Sambar, Loose Curd \",\"Jeera Rice, Poriyal\",\"Fruits : Banana\"]\n",
    "                  )"
   ]
  },
  {
   "cell_type": "code",
   "execution_count": 45,
   "metadata": {},
   "outputs": [],
   "source": [
    "d = day1\n"
   ]
  },
  {
   "cell_type": "code",
   "execution_count": 46,
   "metadata": {},
   "outputs": [
    {
     "data": {
      "text/plain": [
       "['Gobi Paratha, Curd,', 'Pongal, Chutney, Sambar', 'B,B,J  Tea, Coffee, Milk,']"
      ]
     },
     "execution_count": 46,
     "metadata": {},
     "output_type": "execute_result"
    }
   ],
   "source": [
    "d.breakfast"
   ]
  },
  {
   "cell_type": "code",
   "execution_count": null,
   "metadata": {},
   "outputs": [],
   "source": []
  },
  {
   "cell_type": "code",
   "execution_count": 2,
   "metadata": {},
   "outputs": [
    {
     "ename": "NameError",
     "evalue": "name 'monthMenu' is not defined",
     "output_type": "error",
     "traceback": [
      "\u001b[0;31m---------------------------------------------------------------------------\u001b[0m",
      "\u001b[0;31mNameError\u001b[0m                                 Traceback (most recent call last)",
      "Cell \u001b[0;32mIn[2], line 1\u001b[0m\n\u001b[0;32m----> 1\u001b[0m \u001b[38;5;28;01mimport\u001b[39;00m \u001b[38;5;21;01mmess_feb\u001b[39;00m\n\u001b[1;32m      2\u001b[0m menu \u001b[38;5;241m=\u001b[39m []\n\u001b[1;32m      4\u001b[0m \u001b[38;5;28;01mfor\u001b[39;00m i \u001b[38;5;129;01min\u001b[39;00m mess_feb\u001b[38;5;241m.\u001b[39mmenu():\n",
      "File \u001b[0;32m~/Documents/code/ios_dev/SnapBite/BackEnd/mess_feb.py:71\u001b[0m\n\u001b[1;32m     60\u001b[0m menu \u001b[38;5;241m=\u001b[39m [day1, day2, day3, day4,day15, day16, day17,day29]\n\u001b[1;32m     61\u001b[0m \u001b[38;5;66;03m# monthMenu = [\u001b[39;00m\n\u001b[1;32m     62\u001b[0m \u001b[38;5;66;03m#     tuple(day1.date): (day1.breakfast, day1.lunch, day1.snacks, day1.dinner),\u001b[39;00m\n\u001b[1;32m     63\u001b[0m \u001b[38;5;66;03m#     tuple(day2.date): (day2.breakfast, day2.lunch, day2.snacks, day2.dinner),\u001b[39;00m\n\u001b[0;32m   (...)\u001b[0m\n\u001b[1;32m     69\u001b[0m \u001b[38;5;66;03m#     tuple(day29.date): (day29.breakfast, day29.lunch, day29.snacks, day29.dinner),\u001b[39;00m\n\u001b[1;32m     70\u001b[0m \u001b[38;5;66;03m# \u001b[39;00m\n\u001b[0;32m---> 71\u001b[0m \u001b[38;5;28mprint\u001b[39m(\u001b[43mmonthMenu\u001b[49m[\u001b[38;5;241m0\u001b[39m][\u001b[38;5;241m3\u001b[39m])\n",
      "\u001b[0;31mNameError\u001b[0m: name 'monthMenu' is not defined"
     ]
    }
   ],
   "source": [
    "import mess_feb\n",
    "menu = []\n",
    "\n",
    "for i in mess_feb.menu():\n",
    "    print(i.date)"
   ]
  },
  {
   "cell_type": "code",
   "execution_count": 1,
   "metadata": {},
   "outputs": [
    {
     "name": "stdout",
     "output_type": "stream",
     "text": [
      "{'a': 1, 'b': 2, 'c': 4}\n"
     ]
    }
   ],
   "source": [
    "dict1 = {'a': 1, 'b': 2}\n",
    "dict2 = {'b': 3, 'c': 4}\n",
    "\n",
    "# Using a dictionary comprehension to combine the dictionaries\n",
    "result_dict = dict(dict1, **{key: value for key, value in dict2.items() if key not in dict1})\n",
    "\n",
    "print(result_dict)\n"
   ]
  },
  {
   "cell_type": "code",
   "execution_count": null,
   "metadata": {},
   "outputs": [],
   "source": []
  }
 ],
 "metadata": {
  "kernelspec": {
   "display_name": "mlenv",
   "language": "python",
   "name": "python3"
  },
  "language_info": {
   "codemirror_mode": {
    "name": "ipython",
    "version": 3
   },
   "file_extension": ".py",
   "mimetype": "text/x-python",
   "name": "python",
   "nbconvert_exporter": "python",
   "pygments_lexer": "ipython3",
   "version": "3.11.4"
  }
 },
 "nbformat": 4,
 "nbformat_minor": 2
}
